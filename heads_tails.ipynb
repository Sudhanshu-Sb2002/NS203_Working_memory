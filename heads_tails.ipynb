{
 "cells": [
  {
   "cell_type": "code",
   "execution_count": 115,
   "metadata": {
    "collapsed": true,
    "pycharm": {
     "name": "#%%\n"
    }
   },
   "outputs": [],
   "source": [
    "import numpy as np\n",
    "import os\n",
    "import scipy.stats as stats\n",
    "import matplotlib.pyplot as plt\n",
    "import seaborn as sns\n",
    "sns.set_theme()"
   ]
  },
  {
   "cell_type": "code",
   "execution_count": 116,
   "outputs": [],
   "source": [
    "choices = [\"H\", \"T\"]\n",
    "n_trials = 40\n",
    "data_path=os.path.join(\"Heads_tails\",\"heads_tails_data.npz\")\n",
    "'''\n",
    "x=np.array([ np.random.choice(choices, n_trials, p=[0.5, 0.5], replace=True) for _ in range(5)])\n",
    "print(np.count_nonzero(x == choices[0]))\n",
    "for xi in x:\n",
    "    for j in range(n_trials):\n",
    "        print(j,\":\",xi[j])\n",
    "    print()\n",
    "\n",
    "np.savez(\"data_path\", x=x)'''\n",
    "x=np.array(np.load(data_path)[\"x\"])"
   ],
   "metadata": {
    "collapsed": false,
    "pycharm": {
     "name": "#%%\n"
    }
   }
  },
  {
   "cell_type": "code",
   "execution_count": 117,
   "outputs": [
    {
     "name": "stdout",
     "output_type": "stream",
     "text": [
      "22\n",
      "20\n",
      "22\n",
      "16\n",
      "18\n"
     ]
    }
   ],
   "source": [
    "for i in range(len(x)):\n",
    "    print(np.count_nonzero(x[i] == choices[0]))"
   ],
   "metadata": {
    "collapsed": false,
    "pycharm": {
     "name": "#%%\n"
    }
   }
  },
  {
   "cell_type": "code",
   "execution_count": 118,
   "outputs": [],
   "source": [
    "\n",
    "response_file=os.path.join(\"Heads_tails\",\"responses.txt\")\n",
    "\n",
    "responses=np.zeros((2,len(x),n_trials),dtype=str)\n",
    "with open(response_file, \"r\") as f:\n",
    "    for s_id,subject in enumerate(responses):\n",
    "        f.readline()\n",
    "        for trial in subject:\n",
    "            for i in range(n_trials):\n",
    "                trial[i]=f.read(1)\n",
    "        f.readline()\n"
   ],
   "metadata": {
    "collapsed": false,
    "pycharm": {
     "name": "#%%\n"
    }
   }
  },
  {
   "cell_type": "code",
   "execution_count": 119,
   "outputs": [],
   "source": [
    "def d_prime_criterea(Hit_rate,False_alarm_rate):\n",
    "    F=stats.norm.ppf(False_alarm_rate)\n",
    "    H=stats.norm.ppf(Hit_rate)\n",
    "    criterion=-F\n",
    "    d_prime=H-F\n",
    "    bias=-(F+H)/2\n",
    "    return d_prime,criterion,bias\n",
    "def Hits_False_alarms(actual,response):\n",
    "    positive_actual=np.count_nonzero(actual == choices[0])\n",
    "    negative_actual=len(actual)-positive_actual\n",
    "    HR=np.count_nonzero(actual[response == choices[0]] == choices[0])/positive_actual\n",
    "    FAR=np.count_nonzero(actual[response == choices[0]] == choices[1])/negative_actual\n",
    "    return HR,FAR\n",
    "\n",
    "hf=np.zeros((responses.shape[0],responses.shape[1],2))\n",
    "dc=np.zeros((responses.shape[0],responses.shape[1],3))\n",
    "for i in range(responses.shape[0]):\n",
    "    for j in range(responses.shape[1]):\n",
    "        hf[i,j,:]=Hits_False_alarms(x[j],responses[i,j,:])\n",
    "        dc[i,j,:]=d_prime_criterea(hf[i,j,0],hf[i,j,1])"
   ],
   "metadata": {
    "collapsed": false,
    "pycharm": {
     "name": "#%%\n"
    }
   }
  },
  {
   "cell_type": "code",
   "execution_count": 120,
   "outputs": [
    {
     "name": "stdout",
     "output_type": "stream",
     "text": [
      "[[-0.33307882  0.25965912  0.025525    0.31863936 -0.1397103 ]\n",
      " [ 0.316542    0.39873917  0.4752705   0.          0.63097184]]\n"
     ]
    }
   ],
   "source": [
    "print(dc[:,:,0])"
   ],
   "metadata": {
    "collapsed": false,
    "pycharm": {
     "name": "#%%\n"
    }
   }
  },
  {
   "cell_type": "code",
   "execution_count": 121,
   "outputs": [
    {
     "data": {
      "text/plain": "<Figure size 1000x500 with 2 Axes>",
      "image/png": "[encoded data removed]"
     },
     "metadata": {},
     "output_type": "display_data"
    }
   ],
   "source": [
    " # lets scatter plot the d' values\n",
    "sns.set_theme(style=\"white\")\n",
    "fig, ax = plt.subplots(1,2,figsize=(10,5))\n",
    "ax[0].scatter(range(len(dc[0,:,0])),dc[0,:,0])\n",
    "ax[0].set_title(\"Subject-1\")\n",
    "ax[0].set_xlabel(\"trial\")\n",
    "ax[0].set_ylabel(\"d'\")\n",
    "ax[1].scatter(range(len(dc[1,:,0])),dc[1,:,0])\n",
    "ax[1].set_title(\"Subject-2\")\n",
    "ax[1].set_xlabel(\"trials\")\n",
    "ax[1].set_ylabel(\"d'\")\n",
    "# we want x=0 line\n",
    "ax[0].hlines(0,-0.1,4.1,color=\"black\")\n",
    "#let us center the y axis at 0\n",
    "ax[0].set_ylim(-np.abs(dc[0,:,0]).max()*1.2,np.abs(dc[0,:,0]).max()*1.2)\n",
    "ax[0].set_xlim(-0.1,4.1)\n",
    "ax[1].hlines(0,-0.1,4.1,color=\"black\")\n",
    "ax[1].set_ylim(-np.abs(dc[1,:,0]).max()*1.2,np.abs(dc[1,:,0]).max()*1.2)\n",
    "ax[1].set_xlim(-0.1,4.1)\n",
    "# set face color to gray for fig\n",
    "fig.set_facecolor([0.98,0.98,1])\n",
    "\n",
    "fig.tight_layout()"
   ],
   "metadata": {
    "collapsed": false,
    "pycharm": {
     "name": "#%%\n"
    }
   }
  },
  {
   "cell_type": "code",
   "execution_count": 122,
   "outputs": [
    {
     "name": "stdout",
     "output_type": "stream",
     "text": [
      "subject- 1\td' :0.03 +-0.24\n",
      "subject- 2\td' :0.36 +-0.21\n"
     ]
    }
   ],
   "source": [
    "for i in range(responses.shape[0]):\n",
    "    print(\"subject-\",i+1,end=\"\\t\")\n",
    "    print(f\"d' :{np.mean(dc[i,:,0]):.2f} +-{np.std(dc[i,:,0]):.2f}\")\n",
    "\n"
   ],
   "metadata": {
    "collapsed": false,
    "pycharm": {
     "name": "#%%\n"
    }
   }
  },
  {
   "cell_type": "code",
   "execution_count": 122,
   "outputs": [],
   "source": [],
   "metadata": {
    "collapsed": false,
    "pycharm": {
     "name": "#%%\n"
    }
   }
  }
 ],
 "metadata": {
  "kernelspec": {
   "display_name": "Python 3",
   "language": "python",
   "name": "python3"
  },
  "language_info": {
   "codemirror_mode": {
    "name": "ipython",
    "version": 2
   },
   "file_extension": ".py",
   "mimetype": "text/x-python",
   "name": "python",
   "nbconvert_exporter": "python",
   "pygments_lexer": "ipython2",
   "version": "2.7.6"
  }
 },
 "nbformat": 4,
 "nbformat_minor": 0
}